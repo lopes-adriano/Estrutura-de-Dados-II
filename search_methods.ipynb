{
  "nbformat": 4,
  "nbformat_minor": 0,
  "metadata": {
    "colab": {
      "name": "search_methods.ipynb",
      "provenance": [],
      "collapsed_sections": [],
      "include_colab_link": true
    },
    "kernelspec": {
      "name": "python3",
      "display_name": "Python 3"
    }
  },
  "cells": [
    {
      "cell_type": "markdown",
      "metadata": {
        "id": "view-in-github",
        "colab_type": "text"
      },
      "source": [
        "<a href=\"https://colab.research.google.com/github/lopes-adriano/Estrutura-de-Dados-II/blob/master/search_methods.ipynb\" target=\"_parent\"><img src=\"https://colab.research.google.com/assets/colab-badge.svg\" alt=\"Open In Colab\"/></a>"
      ]
    },
    {
      "cell_type": "markdown",
      "metadata": {
        "id": "z4CVOvloGXJ1"
      },
      "source": [
        "---\n",
        "#**Importação das bibliotecas e implementação das funções**\n",
        "\n",
        "---"
      ]
    },
    {
      "cell_type": "code",
      "metadata": {
        "id": "OOh7eLwXxBZU"
      },
      "source": [
        "import pandas as pd\n",
        "import sys\n",
        "\n",
        "sys.setrecursionlimit(10000)\n",
        "\n",
        "#--------------------Busca sequêncial----------------------\n",
        "\n",
        "def sequencial(data, nome):\n",
        "    data = data.to_numpy()\n",
        "    comp = 0\n",
        "    for i in range (len(data)):\n",
        "      comp += 1\n",
        "      if (data[i][0] == nome):\n",
        "          return {\"comp\":comp, \"posicao\": i, \"dados\":data[i]}\n",
        "      elif (i == (len(data) - 1)):\n",
        "          return {\"comp\":comp,\"posicao\":None}\n",
        "\n",
        "#--------------------Busca binária-------------------------\n",
        "def binaria(data, nome, esquerda = 0, direita = -1):\n",
        "    global contbin\n",
        "    if direita == -1:\n",
        "        data = data.to_numpy()\n",
        "        direita = len(data) - 1\n",
        "    if direita < esquerda: \n",
        "        return {\"no\":None, \"comp\":contbin} \n",
        "    meio = (esquerda + direita) // 2\n",
        "    if data[meio][0] == nome:\n",
        "        contbin += 1\n",
        "        return {\"dados\":data[meio], \"comp\":contbin, \"no\": -1, \"index\": meio} \n",
        "    elif data[meio][0] > nome:\n",
        "        contbin += 1\n",
        "        return binaria(data, nome, esquerda, meio - 1)\n",
        "    else:\n",
        "        contbin += 1\n",
        "        return binaria(data, nome, meio + 1, direita)"
      ],
      "execution_count": null,
      "outputs": []
    },
    {
      "cell_type": "markdown",
      "metadata": {
        "id": "IW_kkN9DGzox"
      },
      "source": [
        "---\n",
        "#**Entrada de dados para a busca:**\n",
        "---"
      ]
    },
    {
      "cell_type": "code",
      "metadata": {
        "id": "YHvAS4L_lSBW"
      },
      "source": [
        "#@title Escolha o tamanho do arquivo, o nome a ser pesquisado e o método de busca:\n",
        " \n",
        "tamanho = \"1000\" #@param [\"1000\", \"2000\", \"3000\",\"5000\"]\n",
        "nome = \"Abbey\" #@param [\"Abbey\", \"Nonie\", \"Zack\", \"Torrie\", \"Emmett\", \"Lancelot\", \"Yorker\"]\n",
        "metodo = \"sequencial\" #@param [\"sequencial\",\"binaria\"]\n",
        "url = \"https://raw.githubusercontent.com/lopes-adriano/Estrutura-de-Dados-II/master/datasets_2/{}/crescente_{}.csv\".format(tamanho,tamanho)\n",
        "data = pd.read_csv(url)\n",
        "if metodo is \"sequencial\":\n",
        "    elemento1 = sequencial(data, nome)\n",
        "    if elemento1[\"posicao\"] != None:\n",
        "      print(\"O nome\",nome,\"esta no índice\", elemento1[\"posicao\"], \"do dataset e o número de comparações realizadas foi:\",elemento1[\"comp\"])\n",
        "      print(\"\\nNome:\",elemento1[\"dados\"][0], \"\\n\"+ \"Sobrenome:\",elemento1[\"dados\"][1], \"\\n\"+ \"Email:\", elemento1[\"dados\"][2], \"\\n\"+ \"Gênero:\", elemento1[\"dados\"][3], \"\\n\"+ \"Id:\", elemento1[\"dados\"][4])\n",
        "    else:\n",
        "      print(\"O nome\",nome,\"não se encontra no dataset e foram realizadas\", elemento1[\"comp\"],\"comparações.\")\n",
        "else:\n",
        "    contbin = 0\n",
        "    elemento2 = binaria(data, nome)\n",
        "    if elemento2[\"no\"] == None:\n",
        "      print(\"O nome\",nome,\"não se encontra no dataset e foram realizadas\",elemento2[\"comp\"],\"comparações.\")\n",
        "    else:\n",
        "      print(\"O nome\",nome,\"esta no índice\", elemento2[\"index\"], \"do dataset e o número de comparações realizadas foi:\", elemento2[\"comp\"])\n",
        "      print(\"\\nNome:\",elemento2[\"dados\"][0], \"\\n\"+ \"Sobrenome:\",elemento2[\"dados\"][1], \"\\n\"+ \"Email:\", elemento2[\"dados\"][2], \"\\n\"+ \"Gênero:\", elemento2[\"dados\"][3], \"\\n\"+ \"Id:\", elemento2[\"dados\"][4])"
      ],
      "execution_count": null,
      "outputs": []
    }
  ]
}